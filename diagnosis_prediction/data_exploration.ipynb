{
 "cells": [
  {
   "attachments": {},
   "cell_type": "markdown",
   "metadata": {},
   "source": [
    "# Initial data exploration of the input data"
   ]
  },
  {
   "cell_type": "code",
   "execution_count": null,
   "metadata": {},
   "outputs": [],
   "source": [
    "import json\n",
    "import os\n",
    "from typing import List\n",
    "\n",
    "import pandas as pd\n",
    "import ydata_profiling\n",
    "from data_loader import DataLoader\n",
    "from evidence_encoder import EvidenceEncoder\n",
    "from global_variables import (\n",
    "    DATA_EXPLORATION_DIR,\n",
    "    ICD10_CHAPTERS_DEFINITION_PATH,\n",
    "    TARGET_COLUMN,\n",
    "    TEST_CASES_PATH,\n",
    ")\n",
    "\n",
    "if not os.path.exists(DATA_EXPLORATION_DIR):\n",
    "    os.makedirs(DATA_EXPLORATION_DIR)\n",
    "RAW_DATA_EXPLORATION_FILE = \"raw_data_exploration.html\"\n",
    "TRANSFORMED_DATA_EXPLORATION_FILE = \"transformed_data_exploration.html\"\n",
    "ENCODED_DATA_EXPLORATION_FILE = \"encoded_data_exploration.html\"\n",
    "\n",
    "\n",
    "def check_dependence_of_columns(\n",
    "    df: pd.DataFrame, col_to_compare: str, possibly_derived_cols: List[str]\n",
    ") -> None:\n",
    "    \"\"\"Check whether the columns possibly_derived_cols can be derived from the column\n",
    "    col_to_compare.\"\"\"\n",
    "    for col in possibly_derived_cols:\n",
    "        is_unique = df.groupby(col_to_compare).apply(\n",
    "            lambda df, column=col: df[column].nunique() <= 1\n",
    "        )\n",
    "        if not is_unique.all():\n",
    "            print(f\"Column {col} cannot be derived from {col_to_compare}!\")\n",
    "        else:\n",
    "            print(f\"Column {col} can be derived from {col_to_compare}.\")"
   ]
  },
  {
   "attachments": {},
   "cell_type": "markdown",
   "metadata": {},
   "source": [
    "## Analysis of the raw data"
   ]
  },
  {
   "cell_type": "code",
   "execution_count": null,
   "metadata": {},
   "outputs": [],
   "source": [
    "with open(TEST_CASES_PATH, encoding=\"utf8\") as json_file:\n",
    "    raw_data = json.load(json_file)\n",
    "raw_data_df = pd.json_normalize(raw_data)\n",
    "raw_data_df[\"expected_condition_icd10_codes_str\"] = raw_data_df[\n",
    "    \"expected_condition_icd10_codes\"\n",
    "].astype(str)\n",
    "profile_raw_data = ydata_profiling.ProfileReport(raw_data_df, minimal=False)\n",
    "profile_raw_data.to_file(os.path.join(DATA_EXPLORATION_DIR, RAW_DATA_EXPLORATION_FILE))"
   ]
  },
  {
   "attachments": {},
   "cell_type": "markdown",
   "metadata": {},
   "source": [
    "Check whether `expected_condition_name`, `expected_condition_common_name`, `expected_condition_icd10_codes` can be derived from the `expected_condition_id`:"
   ]
  },
  {
   "cell_type": "code",
   "execution_count": null,
   "metadata": {},
   "outputs": [],
   "source": [
    "raw_data_df[\"expected_condition_icd10_codes_tuple\"] = raw_data_df[\n",
    "    \"expected_condition_icd10_codes\"\n",
    "].apply(tuple)\n",
    "check_dependence_of_columns(\n",
    "    df=raw_data_df,\n",
    "    col_to_compare=\"expected_condition_id\",\n",
    "    possibly_derived_cols=[\n",
    "        \"expected_condition_name\",\n",
    "        \"expected_condition_common_name\",\n",
    "        \"expected_condition_icd10_codes_tuple\",\n",
    "    ],\n",
    ")"
   ]
  },
  {
   "attachments": {},
   "cell_type": "markdown",
   "metadata": {},
   "source": [
    "### Learnings from the raw data:\n",
    "- 373 rows\n",
    "- no duplicated rows\n",
    "- `public_test_case_id` and `public_test_case_name` are both unique identifiers of the\n",
    "  rows (because they take as many distinct values as there are number of rows) => drop\n",
    "  `public_test_case_name` since it is easier to deal with numbers\n",
    "- `expected_condition_name`, `expected_condition_common_name`,\n",
    "  `expected_condition_icd10_codes` can be derived from the `expected_condition_id` (see\n",
    "  check) -> one can be used as target, others have to be dropped to avoid target\n",
    "  leakage\n",
    "- `expected_condition_common_name` has missing values => not suited as target\n",
    "- `expected_condition_id`, `expected_condition_name`, `expected_condition_icd10_codes` have\n",
    "  no missing values => either could be used as target\n",
    "- `expected_condition_id`, `expected_condition_name` have 267 distinct values (71.6% of\n",
    "  all data) and `expected_condition_icd10_codes` has 263 distinct values (70.5% of all\n",
    "  data) => hard to learn => needs to be grouped\n",
    "- there are two columns (`api_payload.age.unit` and `api_payload.age.value`) for the age\n",
    "  of a patient => convert this to one unit for better learning"
   ]
  },
  {
   "attachments": {},
   "cell_type": "markdown",
   "metadata": {},
   "source": [
    "## Analysis of the manually transformed data"
   ]
  },
  {
   "cell_type": "code",
   "execution_count": null,
   "metadata": {},
   "outputs": [],
   "source": [
    "X, y = DataLoader(multi_label=False).load(\n",
    "    data_path=TEST_CASES_PATH,\n",
    "    icd10_chapters_definition_path=ICD10_CHAPTERS_DEFINITION_PATH,\n",
    "    test_size=None,\n",
    ")\n",
    "transformed_data_df = pd.concat([X, y], axis=1)\n",
    "profile_transformed_data = ydata_profiling.ProfileReport(\n",
    "    transformed_data_df,\n",
    "    minimal=False,\n",
    ")\n",
    "profile_transformed_data.to_file(\n",
    "    os.path.join(DATA_EXPLORATION_DIR, TRANSFORMED_DATA_EXPLORATION_FILE)\n",
    ")"
   ]
  },
  {
   "attachments": {},
   "cell_type": "markdown",
   "metadata": {},
   "source": [
    "Look at target counts:"
   ]
  },
  {
   "cell_type": "code",
   "execution_count": null,
   "metadata": {},
   "outputs": [],
   "source": [
    "target_counts = transformed_data_df[TARGET_COLUMN].value_counts()\n",
    "print(target_counts)"
   ]
  },
  {
   "cell_type": "code",
   "execution_count": null,
   "metadata": {},
   "outputs": [],
   "source": [
    "THRESHOLD = 5\n",
    "n_low_frequency_targets = target_counts[target_counts < THRESHOLD].count()\n",
    "print(\n",
    "    f\"There are {n_low_frequency_targets} target values which occur less than \"\n",
    "    f\" {THRESHOLD} times.\"\n",
    ")"
   ]
  },
  {
   "attachments": {},
   "cell_type": "markdown",
   "metadata": {},
   "source": [
    "### Learnings from the transformed data:\n",
    "Note: `expected_condition_icd10_codes` was grouped to yield\n",
    "`expected_condition_icd10_blocks`\n",
    "- `expected_condition_icd10_blocks` has 32 distinct values (8.6% of all data) => much\n",
    "  easier to predict\n",
    "- `expected_condition_icd10_blocks` has 5 values that occur only once and overall 15\n",
    "  values occur less than 5 times => those are almost impossible to learn\n",
    "- in all columns no missing values => for the given data, no imputer is needed (but\n",
    "  may be necessary for an unseen test data set)"
   ]
  },
  {
   "attachments": {},
   "cell_type": "markdown",
   "metadata": {},
   "source": [
    "## Analysis of the evidence encoded data"
   ]
  },
  {
   "cell_type": "code",
   "execution_count": null,
   "metadata": {},
   "outputs": [],
   "source": [
    "evidence_encoder = EvidenceEncoder()\n",
    "encoded_data_df = evidence_encoder.fit_transform(transformed_data_df)\n",
    "profile_encoded_data = ydata_profiling.ProfileReport(encoded_data_df, minimal=True)\n",
    "profile_encoded_data.to_file(\n",
    "    os.path.join(DATA_EXPLORATION_DIR, ENCODED_DATA_EXPLORATION_FILE)\n",
    ")"
   ]
  },
  {
   "attachments": {},
   "cell_type": "markdown",
   "metadata": {},
   "source": [
    "### Learnings from the evidende encoded data:\n",
    "- 750 features from encoding => a lot more than the number of rows => reduction of\n",
    "  number of features might be helpful => e.g.: PCA, or clustering the evidence with\n",
    "  unsupervised learning\n",
    "- in all columns no missing values => for the given data, no imputer is needed (but\n",
    "  may be necessary for an unseen test data set)"
   ]
  }
 ],
 "metadata": {
  "kernelspec": {
   "display_name": "venv",
   "language": "python",
   "name": "python3"
  },
  "language_info": {
   "codemirror_mode": {
    "name": "ipython",
    "version": 3
   },
   "file_extension": ".py",
   "mimetype": "text/x-python",
   "name": "python",
   "nbconvert_exporter": "python",
   "pygments_lexer": "ipython3",
   "version": "3.10.3"
  }
 },
 "nbformat": 4,
 "nbformat_minor": 2
}
